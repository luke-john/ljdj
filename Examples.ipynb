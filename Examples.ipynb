{
 "cells": [
  {
   "cell_type": "markdown",
   "metadata": {},
   "source": [
    "# Examples"
   ]
  },
  {
   "cell_type": "code",
   "execution_count": null,
   "metadata": {},
   "outputs": [],
   "source": [
    "const fruits = [\"apple\", \"banana\", \"carrot\"];"
   ]
  },
  {
   "cell_type": "code",
   "execution_count": null,
   "metadata": {},
   "outputs": [],
   "source": [
    "import React from \"npm:react\";\n",
    "import { djSSR } from \"./main.tsx\";\n",
    "\n",
    "djSSR(\n",
    "    <ul>\n",
    "        {fruits.map((fruit, i) => (<li key={i} style={fruit === \"apple\" ? {color: \"red\"}: {}}>{fruit}</li>))}\n",
    "    </ul>\n",
    ")\n"
   ]
  },
  {
   "cell_type": "code",
   "execution_count": null,
   "metadata": {},
   "outputs": [],
   "source": [
    "const commId = crypto.randomUUID();"
   ]
  },
  {
   "cell_type": "code",
   "execution_count": null,
   "metadata": {},
   "outputs": [],
   "source": [
    "import React from \"npm:react\";\n",
    "import { sleep } from \"https://deno.land/x/sleep/mod.ts\";\n",
    "\n",
    "import { djSPA } from \"./main.tsx\";\n",
    "\n",
    "\n",
    "function Button(props) {\n",
    "    return <button {...props}>Clickss me</button>\n",
    "}\n",
    "\n",
    "await djSPA(\n",
    "    {fruits, commId},\n",
    "    (transferProps) => {\n",
    "        const [counter, setCounter] = React.useState(1)\n",
    "\n",
    "        return <div>\n",
    "        <p>commId: {transferProps.commId}</p>\n",
    "            <button onClick={() => setCounter(counter + 1)}>increase fruits to show</button>\n",
    "            <ul>\n",
    "                {transferProps.fruits.slice(0, counter).map((fruit, i) =>\n",
    "                        <li key={i} style={fruit === \"apple\" ? {color: \"red\"}: {}}>{fruit}</li>)}\n",
    "            </ul>\n",
    "        </div>\n",
    "    },\n",
    "    commId\n",
    ")\n"
   ]
  }
 ],
 "metadata": {
  "kernelspec": {
   "display_name": "Deno",
   "language": "typescript",
   "name": "deno"
  },
  "language_info": {
   "file_extension": ".ts",
   "mimetype": "text/x.typescript",
   "name": "typescript",
   "nb_converter": "script",
   "pygments_lexer": "typescript",
   "version": "5.2.2"
  }
 },
 "nbformat": 4,
 "nbformat_minor": 2
}
