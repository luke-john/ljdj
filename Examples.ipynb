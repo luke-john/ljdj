{
 "cells": [
  {
   "cell_type": "code",
   "execution_count": 5,
   "metadata": {},
   "outputs": [
    {
     "data": {
      "text/html": [
       "<iframe src=\"http://localhost:8578/?jsx=%0A%3Cp%3E%0A%20%20%20%20This%20is%20some%20demo%20jsx%0A%3C%2Fp%3E%0A&params=%7B%7D\" frameBorder=\"1\" height=\"200\" width=\"100%\" allow=\"clipboard-read *; clipboard-write *;\">  <p>Your browser does not support iframes, or the content cannot be displayed.</p>\n",
       "    </iframe>"
      ]
     },
     "execution_count": 5,
     "metadata": {},
     "output_type": "execute_result"
    }
   ],
   "source": [
    "import { djJSX } from \"https://raw.githubusercontent.com/luke-john/ljdj/master/main.ts\";\n",
    "\n",
    "djJSX()`\n",
    "<p>\n",
    "    This is some demo jsx\n",
    "</p>\n",
    "`;"
   ]
  },
  {
   "cell_type": "code",
   "execution_count": 6,
   "metadata": {},
   "outputs": [
    {
     "data": {
      "text/html": [
       "<iframe src=\"http://localhost:8578/?jsx=%0A%3Cul%3E%0A%20%20%20%20%7Bfruits.map(fruit%20%3D%3E%20%3Cli%3E%7Bfruit%7D%3C%2Fli%3E)%7D%0A%3C%2Ful%3E%0A&params=%7B%22fruits%22%3A%5B%22apple%22%2C%22banana%22%2C%22carrot%22%5D%7D\" frameBorder=\"1\" height=\"200\" width=\"100%\" allow=\"clipboard-read *; clipboard-write *;\">  <p>Your browser does not support iframes, or the content cannot be displayed.</p>\n",
       "    </iframe>"
      ]
     },
     "execution_count": 6,
     "metadata": {},
     "output_type": "execute_result"
    }
   ],
   "source": [
    "import { djJSX } from \"https://raw.githubusercontent.com/luke-john/ljdj/master/main.ts\";\n",
    "const fruits = [\"apple\", \"banana\", \"carrot\"];\n",
    "\n",
    "djJSX({ fruits })`\n",
    "<ul>\n",
    "    {fruits.map(fruit => <li>{fruit}</li>)}\n",
    "</ul>\n",
    "`;"
   ]
  }
 ],
 "metadata": {
  "kernelspec": {
   "display_name": "Deno",
   "language": "typescript",
   "name": "deno"
  },
  "language_info": {
   "file_extension": ".ts",
   "mimetype": "text/x.typescript",
   "name": "typescript",
   "nb_converter": "script",
   "pygments_lexer": "typescript",
   "version": "5.2.2"
  }
 },
 "nbformat": 4,
 "nbformat_minor": 2
}
